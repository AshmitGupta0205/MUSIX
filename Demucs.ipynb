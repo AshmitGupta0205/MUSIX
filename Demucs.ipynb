{
 "cells": [
  {
   "cell_type": "code",
   "execution_count": 2,
   "id": "60ddfc01-06cb-4db3-95c1-1e50156650af",
   "metadata": {},
   "outputs": [
    {
     "name": "stdout",
     "output_type": "stream",
     "text": [
      "Requirement already satisfied: demucs in /opt/anaconda3/lib/python3.12/site-packages (4.0.1)\n",
      "Requirement already satisfied: dora-search in /opt/anaconda3/lib/python3.12/site-packages (from demucs) (0.1.12)\n",
      "Requirement already satisfied: einops in /opt/anaconda3/lib/python3.12/site-packages (from demucs) (0.8.0)\n",
      "Requirement already satisfied: julius>=0.2.3 in /opt/anaconda3/lib/python3.12/site-packages (from demucs) (0.2.7)\n",
      "Requirement already satisfied: lameenc>=1.2 in /opt/anaconda3/lib/python3.12/site-packages (from demucs) (1.8.1)\n",
      "Requirement already satisfied: openunmix in /opt/anaconda3/lib/python3.12/site-packages (from demucs) (1.3.0)\n",
      "Requirement already satisfied: pyyaml in /opt/anaconda3/lib/python3.12/site-packages (from demucs) (6.0.1)\n",
      "Requirement already satisfied: torch>=1.8.1 in /opt/anaconda3/lib/python3.12/site-packages (from demucs) (2.5.1)\n",
      "Requirement already satisfied: torchaudio>=0.8 in /opt/anaconda3/lib/python3.12/site-packages (from demucs) (2.5.1)\n",
      "Requirement already satisfied: tqdm in /opt/anaconda3/lib/python3.12/site-packages (from demucs) (4.66.5)\n",
      "Requirement already satisfied: filelock in /opt/anaconda3/lib/python3.12/site-packages (from torch>=1.8.1->demucs) (3.13.1)\n",
      "Requirement already satisfied: typing-extensions>=4.8.0 in /opt/anaconda3/lib/python3.12/site-packages (from torch>=1.8.1->demucs) (4.11.0)\n",
      "Requirement already satisfied: networkx in /opt/anaconda3/lib/python3.12/site-packages (from torch>=1.8.1->demucs) (3.3)\n",
      "Requirement already satisfied: jinja2 in /opt/anaconda3/lib/python3.12/site-packages (from torch>=1.8.1->demucs) (3.1.4)\n",
      "Requirement already satisfied: fsspec in /opt/anaconda3/lib/python3.12/site-packages (from torch>=1.8.1->demucs) (2024.6.1)\n",
      "Requirement already satisfied: setuptools in /opt/anaconda3/lib/python3.12/site-packages (from torch>=1.8.1->demucs) (75.8.0)\n",
      "Requirement already satisfied: sympy==1.13.1 in /opt/anaconda3/lib/python3.12/site-packages (from torch>=1.8.1->demucs) (1.13.1)\n",
      "Requirement already satisfied: mpmath<1.4,>=1.1.0 in /opt/anaconda3/lib/python3.12/site-packages (from sympy==1.13.1->torch>=1.8.1->demucs) (1.3.0)\n",
      "Requirement already satisfied: omegaconf in /opt/anaconda3/lib/python3.12/site-packages (from dora-search->demucs) (2.3.0)\n",
      "Requirement already satisfied: retrying in /opt/anaconda3/lib/python3.12/site-packages (from dora-search->demucs) (1.3.4)\n",
      "Requirement already satisfied: submitit in /opt/anaconda3/lib/python3.12/site-packages (from dora-search->demucs) (1.5.2)\n",
      "Requirement already satisfied: treetable in /opt/anaconda3/lib/python3.12/site-packages (from dora-search->demucs) (0.2.5)\n",
      "Requirement already satisfied: numpy in /opt/anaconda3/lib/python3.12/site-packages (from openunmix->demucs) (2.2.1)\n",
      "Requirement already satisfied: MarkupSafe>=2.0 in /opt/anaconda3/lib/python3.12/site-packages (from jinja2->torch>=1.8.1->demucs) (2.1.3)\n",
      "Requirement already satisfied: antlr4-python3-runtime==4.9.* in /opt/anaconda3/lib/python3.12/site-packages (from omegaconf->dora-search->demucs) (4.9.3)\n",
      "Requirement already satisfied: six>=1.7.0 in /opt/anaconda3/lib/python3.12/site-packages (from retrying->dora-search->demucs) (1.16.0)\n",
      "Requirement already satisfied: cloudpickle>=1.2.1 in /opt/anaconda3/lib/python3.12/site-packages (from submitit->dora-search->demucs) (3.0.0)\n"
     ]
    }
   ],
   "source": [
    "!pip install demucs"
   ]
  },
  {
   "cell_type": "code",
   "execution_count": 14,
   "id": "77cd0d58-7aad-49bf-92c4-b5086d871ac4",
   "metadata": {},
   "outputs": [
    {
     "name": "stdout",
     "output_type": "stream",
     "text": [
      "\u001b[1mImportant: the default model was recently changed to `htdemucs`\u001b[0m the latest Hybrid Transformer Demucs model. In some cases, this model can actually perform worse than previous models. To get back the old default model use `-n mdx_extra_q`.\n",
      "Selected model is a bag of 1 models. You will see that many progress bars per track.\n",
      "Separated tracks will be stored in /Users/ashmitgupta/MUSIX/separated/htdemucs\n",
      "Separating track /Users/ashmitgupta/MUSIX/test.mp3\n",
      "100%|██████████████████████████████████████████████████████████████████████| 181.35/181.35 [01:14<00:00,  2.44seconds/s]\n"
     ]
    }
   ],
   "source": [
    "!python -m demucs.separate /Users/ashmitgupta/MUSIX/test.mp3"
   ]
  },
  {
   "cell_type": "code",
   "execution_count": 17,
   "id": "43640a42-65cf-460f-8470-3d41d1cb40e6",
   "metadata": {},
   "outputs": [
    {
     "name": "stdout",
     "output_type": "stream",
     "text": [
      "\u001b[1mImportant: the default model was recently changed to `htdemucs`\u001b[0m the latest Hybrid Transformer Demucs model. In some cases, this model can actually perform worse than previous models. To get back the old default model use `-n mdx_extra_q`.\n",
      "Selected model is a bag of 1 models. You will see that many progress bars per track.\n",
      "Separated tracks will be stored in /Users/ashmitgupta/MUSIX/separated/htdemucs\n",
      "Separating track /Users/ashmitgupta/MUSIX/test2.mp3\n",
      "100%|████████████████████████████████████████████████████████████████████████| 187.2/187.2 [01:18<00:00,  2.38seconds/s]\n"
     ]
    }
   ],
   "source": [
    "!demucs --two-stems vocals /Users/ashmitgupta/MUSIX/test2.mp3 "
   ]
  },
  {
   "cell_type": "code",
   "execution_count": 19,
   "id": "acfd924d-b29a-4530-bc36-8883c5db909f",
   "metadata": {},
   "outputs": [
    {
     "name": "stdout",
     "output_type": "stream",
     "text": [
      "\u001b[1mImportant: the default model was recently changed to `htdemucs`\u001b[0m the latest Hybrid Transformer Demucs model. In some cases, this model can actually perform worse than previous models. To get back the old default model use `-n mdx_extra_q`.\n",
      "Selected model is a bag of 1 models. You will see that many progress bars per track.\n",
      "Separated tracks will be stored in /Users/ashmitgupta/MUSIX/separated/htdemucs\n",
      "Separating track /Users/ashmitgupta/MUSIX/test3.mp3\n",
      "100%|██████████████████████████████████████████████████████████████████████| 239.85/239.85 [01:39<00:00,  2.42seconds/s]\n"
     ]
    }
   ],
   "source": [
    "!demucs --two-stems vocals /Users/ashmitgupta/MUSIX/test3.mp3 "
   ]
  },
  {
   "cell_type": "code",
   "execution_count": 1,
   "id": "ae9d7fd7-ad83-41af-b76c-fb62ba21e378",
   "metadata": {},
   "outputs": [
    {
     "name": "stdout",
     "output_type": "stream",
     "text": [
      "\u001b[1mImportant: the default model was recently changed to `htdemucs`\u001b[0m the latest Hybrid Transformer Demucs model. In some cases, this model can actually perform worse than previous models. To get back the old default model use `-n mdx_extra_q`.\n",
      "Selected model is a bag of 1 models. You will see that many progress bars per track.\n",
      "Separated tracks will be stored in /Users/ashmitgupta/MUSIX/separated/htdemucs\n",
      "Separating track /Users/ashmitgupta/MUSIX/test4.mp3\n",
      "100%|████████████████████████████████████████████████████████████████████████| 234.0/234.0 [01:32<00:00,  2.52seconds/s]\n"
     ]
    }
   ],
   "source": [
    "!demucs --two-stems vocals /Users/ashmitgupta/MUSIX/test4.mp3 "
   ]
  },
  {
   "cell_type": "code",
   "execution_count": 3,
   "id": "dd0b441e-13ff-495b-bf1c-df7c8d23ba4f",
   "metadata": {},
   "outputs": [
    {
     "name": "stdout",
     "output_type": "stream",
     "text": [
      "\u001b[1mImportant: the default model was recently changed to `htdemucs`\u001b[0m the latest Hybrid Transformer Demucs model. In some cases, this model can actually perform worse than previous models. To get back the old default model use `-n mdx_extra_q`.\n",
      "Selected model is a bag of 1 models. You will see that many progress bars per track.\n",
      "Separated tracks will be stored in /Users/ashmitgupta/MUSIX/separated/htdemucs\n",
      "Separating track /Users/ashmitgupta/MUSIX/testfav.mp3\n",
      "100%|████████████████████████████████████████████████████████████████████████| 234.0/234.0 [01:37<00:00,  2.39seconds/s]\n"
     ]
    }
   ],
   "source": [
    "!demucs --two-stems vocals /Users/ashmitgupta/MUSIX/testfav.mp3 "
   ]
  },
  {
   "cell_type": "code",
   "execution_count": 1,
   "id": "dcc1026f-9189-4b04-817b-d3f5ae86d96d",
   "metadata": {},
   "outputs": [
    {
     "name": "stdout",
     "output_type": "stream",
     "text": [
      "\u001b[1mImportant: the default model was recently changed to `htdemucs`\u001b[0m the latest Hybrid Transformer Demucs model. In some cases, this model can actually perform worse than previous models. To get back the old default model use `-n mdx_extra_q`.\n",
      "Selected model is a bag of 1 models. You will see that many progress bars per track.\n",
      "Separated tracks will be stored in /Users/ashmitgupta/MUSIX/separated/htdemucs\n",
      "Separating track /Users/ashmitgupta/MUSIX/testsis.mp3\n",
      "100%|██████████████████████████████████████████████████████████████████████| 216.45/216.45 [01:24<00:00,  2.55seconds/s]\n"
     ]
    }
   ],
   "source": [
    "!demucs --two-stems vocals /Users/ashmitgupta/MUSIX/testsis.mp3 "
   ]
  }
 ],
 "metadata": {
  "kernelspec": {
   "display_name": "Python 3 (ipykernel)",
   "language": "python",
   "name": "python3"
  },
  "language_info": {
   "codemirror_mode": {
    "name": "ipython",
    "version": 3
   },
   "file_extension": ".py",
   "mimetype": "text/x-python",
   "name": "python",
   "nbconvert_exporter": "python",
   "pygments_lexer": "ipython3",
   "version": "3.12.2"
  }
 },
 "nbformat": 4,
 "nbformat_minor": 5
}
